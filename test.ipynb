{
 "cells": [
  {
   "cell_type": "markdown",
   "id": "ce6d8aae",
   "metadata": {},
   "source": [
    "# NoteBook for Basic python functionality"
   ]
  },
  {
   "cell_type": "code",
   "execution_count": null,
   "id": "7f91afcc",
   "metadata": {},
   "outputs": [],
   "source": [
    "print(\"hello world\")"
   ]
  },
  {
   "cell_type": "code",
   "execution_count": 2,
   "id": "36ecb861",
   "metadata": {},
   "outputs": [
    {
     "name": "stdout",
     "output_type": "stream",
     "text": [
      "API Key (first 10 chars): sk-your-ac...\n",
      "API Key is set: True\n"
     ]
    }
   ],
   "source": [
    "# Option: Set environment variable directly in notebook\n",
    "import os\n",
    "os.environ[\"OPENAI_API_KEY\"] = \"sk-your-actual-openai-api-key-here\"\n",
    "\n",
    "# Now test it\n",
    "OPENAI_API_TOKEN = os.getenv(\"OPENAI_API_KEY\", \"your-openai-api-key-here\")\n",
    "print(f\"API Key (first 10 chars): {OPENAI_API_TOKEN[:10]}...\")\n",
    "print(f\"API Key is set: {OPENAI_API_TOKEN != 'your-openai-api-key-here'}\")\n"
   ]
  },
  {
   "cell_type": "code",
   "execution_count": null,
   "id": "d0442413",
   "metadata": {},
   "outputs": [],
   "source": [
    "import os\n",
    "OPENAI_API_TOKEN = os.getenv(\"OPENAI_API_KEY\", \"your-openai-api-key-here\")\n",
    "print(OPENAI_API_TOKEN)"
   ]
  },
  {
   "cell_type": "markdown",
   "id": "1535137b",
   "metadata": {},
   "source": [
    "## force override"
   ]
  },
  {
   "cell_type": "code",
   "execution_count": 3,
   "id": "66118258",
   "metadata": {},
   "outputs": [
    {
     "name": "stdout",
     "output_type": "stream",
     "text": [
      "API Key loaded: True\n",
      "API Key (first 10 chars): sk-proj-ty...\n",
      "Is it the fake key?: False\n"
     ]
    }
   ],
   "source": [
    "from dotenv import load_dotenv\n",
    "import os\n",
    "\n",
    "# Force override existing environment variables\n",
    "load_dotenv(override=True)  # This will override existing env vars\n",
    "OPENAI_API_TOKEN = os.getenv(\"OPENAI_API_KEY\")\n",
    "print(f\"API Key loaded: {OPENAI_API_TOKEN is not None}\")\n",
    "print(f\"API Key (first 10 chars): {OPENAI_API_TOKEN[:10]}...\" if OPENAI_API_TOKEN else \"None\")\n",
    "print(f\"Is it the fake key?: {OPENAI_API_TOKEN == 'sk-your-actual-openai-api-key-here'}\")"
   ]
  },
  {
   "cell_type": "markdown",
   "id": "12e2d4ea",
   "metadata": {},
   "source": [
    "## clean restart"
   ]
  },
  {
   "cell_type": "code",
   "execution_count": 4,
   "id": "90405779",
   "metadata": {},
   "outputs": [
    {
     "name": "stdout",
     "output_type": "stream",
     "text": [
      "Removed existing fake environment variable\n",
      "API Key loaded from .env: True\n",
      "API Key (first 10 chars): sk-proj-ty...\n",
      "Is it still the fake key?: False\n"
     ]
    }
   ],
   "source": [
    "# Option 2: Clean method - remove the fake key first\n",
    "import os\n",
    "from dotenv import load_dotenv\n",
    "\n",
    "# Remove any existing fake environment variable\n",
    "if \"OPENAI_API_KEY\" in os.environ:\n",
    "    del os.environ[\"OPENAI_API_KEY\"]\n",
    "    print(\"Removed existing fake environment variable\")\n",
    "\n",
    "# Now load from .env file\n",
    "load_dotenv()\n",
    "OPENAI_API_TOKEN = os.getenv(\"OPENAI_API_KEY\")\n",
    "print(f\"API Key loaded from .env: {OPENAI_API_TOKEN is not None}\")\n",
    "print(f\"API Key (first 10 chars): {OPENAI_API_TOKEN[:10]}...\" if OPENAI_API_TOKEN else \"None\")\n",
    "print(f\"Is it still the fake key?: {OPENAI_API_TOKEN == 'sk-your-actual-openai-api-key-here'}\")\n"
   ]
  },
  {
   "cell_type": "code",
   "execution_count": null,
   "id": "5e7e0a6b",
   "metadata": {},
   "outputs": [],
   "source": []
  }
 ],
 "metadata": {
  "kernelspec": {
   "display_name": "babelpy",
   "language": "python",
   "name": "python3"
  },
  "language_info": {
   "codemirror_mode": {
    "name": "ipython",
    "version": 3
   },
   "file_extension": ".py",
   "mimetype": "text/x-python",
   "name": "python",
   "nbconvert_exporter": "python",
   "pygments_lexer": "ipython3",
   "version": "3.13.5"
  }
 },
 "nbformat": 4,
 "nbformat_minor": 5
}
